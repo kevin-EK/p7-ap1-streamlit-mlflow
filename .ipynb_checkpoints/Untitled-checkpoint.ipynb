{
 "cells": [
  {
   "cell_type": "code",
   "execution_count": 1,
   "id": "f1927e01",
   "metadata": {},
   "outputs": [],
   "source": [
    "import pandas as pd\n",
    "import numpy as np\n",
    "\n",
    "import requests\n",
    "import joblib"
   ]
  },
  {
   "cell_type": "code",
   "execution_count": 2,
   "id": "4c4f5069",
   "metadata": {},
   "outputs": [],
   "source": [
    "important_features = joblib.load('data/cleaned/list_col_to_keep_from_train_application_final.joblib')\n",
    "train = pd.read_csv(\"data/source/application_train.csv\", usecols=important_features+['TARGET','SK_ID_CURR'])\n",
    "test = pd.read_csv(\"data/source/application_test.csv\",  usecols= important_features+['SK_ID_CURR'] )"
   ]
  },
  {
   "cell_type": "code",
   "execution_count": null,
   "id": "44ee810b",
   "metadata": {},
   "outputs": [],
   "source": [
    "train.to_csv(\"data/source/application_train_clean.csv\",header = False)\n",
    "test.to_csv(\"data/source/application_test.csv\",header = False)"
   ]
  }
 ],
 "metadata": {
  "kernelspec": {
   "display_name": "Python 3 (ipykernel)",
   "language": "python",
   "name": "python3"
  },
  "language_info": {
   "codemirror_mode": {
    "name": "ipython",
    "version": 3
   },
   "file_extension": ".py",
   "mimetype": "text/x-python",
   "name": "python",
   "nbconvert_exporter": "python",
   "pygments_lexer": "ipython3",
   "version": "3.11.4"
  }
 },
 "nbformat": 4,
 "nbformat_minor": 5
}
